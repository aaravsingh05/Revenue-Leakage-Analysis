{
 "cells": [
  {
   "cell_type": "markdown",
   "id": "e6b15193",
   "metadata": {},
   "source": [
    "### Revenue Leakage Analysis in Subscription Based Models"
   ]
  },
  {
   "cell_type": "markdown",
   "id": "c2010108",
   "metadata": {},
   "source": [
    "##### Importing Necessary Libraries"
   ]
  },
  {
   "cell_type": "code",
   "execution_count": 2,
   "id": "1af49372",
   "metadata": {},
   "outputs": [],
   "source": [
    "import pandas as pd\n",
    "import matplotlib.pyplot as plt\n",
    "import seaborn as sns"
   ]
  },
  {
   "cell_type": "markdown",
   "id": "711ea9c9",
   "metadata": {},
   "source": [
    "##### Loading the Dataset"
   ]
  },
  {
   "cell_type": "code",
   "execution_count": 3,
   "id": "49a97736",
   "metadata": {},
   "outputs": [
    {
     "data": {
      "text/html": [
       "<div>\n",
       "<style scoped>\n",
       "    .dataframe tbody tr th:only-of-type {\n",
       "        vertical-align: middle;\n",
       "    }\n",
       "\n",
       "    .dataframe tbody tr th {\n",
       "        vertical-align: top;\n",
       "    }\n",
       "\n",
       "    .dataframe thead th {\n",
       "        text-align: right;\n",
       "    }\n",
       "</style>\n",
       "<table border=\"1\" class=\"dataframe\">\n",
       "  <thead>\n",
       "    <tr style=\"text-align: right;\">\n",
       "      <th></th>\n",
       "      <th>user_id</th>\n",
       "      <th>plan_type</th>\n",
       "      <th>start_date</th>\n",
       "      <th>end_date</th>\n",
       "      <th>monthly_fee</th>\n",
       "      <th>actual_usage</th>\n",
       "      <th>billed_amount</th>\n",
       "      <th>discount</th>\n",
       "      <th>status</th>\n",
       "    </tr>\n",
       "  </thead>\n",
       "  <tbody>\n",
       "    <tr>\n",
       "      <th>0</th>\n",
       "      <td>fe794379-7b09-4893-a0d2-a71a49e9a6ca</td>\n",
       "      <td>Premium</td>\n",
       "      <td>2025-07-15</td>\n",
       "      <td>NaN</td>\n",
       "      <td>2000</td>\n",
       "      <td>1</td>\n",
       "      <td>1195</td>\n",
       "      <td>479.00</td>\n",
       "      <td>active</td>\n",
       "    </tr>\n",
       "    <tr>\n",
       "      <th>1</th>\n",
       "      <td>fa25789d-941c-4402-8d85-b557c37414f9</td>\n",
       "      <td>Basic</td>\n",
       "      <td>2025-06-21</td>\n",
       "      <td>NaN</td>\n",
       "      <td>800</td>\n",
       "      <td>1</td>\n",
       "      <td>800</td>\n",
       "      <td>213.00</td>\n",
       "      <td>active</td>\n",
       "    </tr>\n",
       "    <tr>\n",
       "      <th>2</th>\n",
       "      <td>dc9cf68c-0f5e-49c6-9fe2-e31c8aa5c559</td>\n",
       "      <td>Premium</td>\n",
       "      <td>2024-12-08</td>\n",
       "      <td>NaN</td>\n",
       "      <td>2000</td>\n",
       "      <td>8</td>\n",
       "      <td>16000</td>\n",
       "      <td>0.00</td>\n",
       "      <td>active</td>\n",
       "    </tr>\n",
       "    <tr>\n",
       "      <th>3</th>\n",
       "      <td>ecd53f76-8bda-4835-bd05-86c50d0b2aea</td>\n",
       "      <td>Basic</td>\n",
       "      <td>2024-09-15</td>\n",
       "      <td>NaN</td>\n",
       "      <td>800</td>\n",
       "      <td>11</td>\n",
       "      <td>8800</td>\n",
       "      <td>0.00</td>\n",
       "      <td>active</td>\n",
       "    </tr>\n",
       "    <tr>\n",
       "      <th>4</th>\n",
       "      <td>e2e7328b-4adf-4659-9171-f816dfae6adc</td>\n",
       "      <td>Basic</td>\n",
       "      <td>2025-06-02</td>\n",
       "      <td>NaN</td>\n",
       "      <td>800</td>\n",
       "      <td>2</td>\n",
       "      <td>1600</td>\n",
       "      <td>267.71</td>\n",
       "      <td>active</td>\n",
       "    </tr>\n",
       "  </tbody>\n",
       "</table>\n",
       "</div>"
      ],
      "text/plain": [
       "                                user_id plan_type  start_date end_date  \\\n",
       "0  fe794379-7b09-4893-a0d2-a71a49e9a6ca   Premium  2025-07-15      NaN   \n",
       "1  fa25789d-941c-4402-8d85-b557c37414f9     Basic  2025-06-21      NaN   \n",
       "2  dc9cf68c-0f5e-49c6-9fe2-e31c8aa5c559   Premium  2024-12-08      NaN   \n",
       "3  ecd53f76-8bda-4835-bd05-86c50d0b2aea     Basic  2024-09-15      NaN   \n",
       "4  e2e7328b-4adf-4659-9171-f816dfae6adc     Basic  2025-06-02      NaN   \n",
       "\n",
       "   monthly_fee  actual_usage  billed_amount  discount  status  \n",
       "0         2000             1           1195    479.00  active  \n",
       "1          800             1            800    213.00  active  \n",
       "2         2000             8          16000      0.00  active  \n",
       "3          800            11           8800      0.00  active  \n",
       "4          800             2           1600    267.71  active  "
      ]
     },
     "execution_count": 3,
     "metadata": {},
     "output_type": "execute_result"
    }
   ],
   "source": [
    "df = pd.read_csv(\"transactions.csv\")\n",
    "df.head()"
   ]
  },
  {
   "cell_type": "code",
   "execution_count": 4,
   "id": "04884301",
   "metadata": {},
   "outputs": [
    {
     "data": {
      "text/html": [
       "<div>\n",
       "<style scoped>\n",
       "    .dataframe tbody tr th:only-of-type {\n",
       "        vertical-align: middle;\n",
       "    }\n",
       "\n",
       "    .dataframe tbody tr th {\n",
       "        vertical-align: top;\n",
       "    }\n",
       "\n",
       "    .dataframe thead th {\n",
       "        text-align: right;\n",
       "    }\n",
       "</style>\n",
       "<table border=\"1\" class=\"dataframe\">\n",
       "  <thead>\n",
       "    <tr style=\"text-align: right;\">\n",
       "      <th></th>\n",
       "      <th>monthly_fee</th>\n",
       "      <th>actual_usage</th>\n",
       "      <th>billed_amount</th>\n",
       "      <th>discount</th>\n",
       "    </tr>\n",
       "  </thead>\n",
       "  <tbody>\n",
       "    <tr>\n",
       "      <th>count</th>\n",
       "      <td>5000.000000</td>\n",
       "      <td>5000.000000</td>\n",
       "      <td>5000.000000</td>\n",
       "      <td>5000.000000</td>\n",
       "    </tr>\n",
       "    <tr>\n",
       "      <th>mean</th>\n",
       "      <td>1348.640000</td>\n",
       "      <td>5.854000</td>\n",
       "      <td>6603.011600</td>\n",
       "      <td>157.035034</td>\n",
       "    </tr>\n",
       "    <tr>\n",
       "      <th>std</th>\n",
       "      <td>501.043271</td>\n",
       "      <td>3.413534</td>\n",
       "      <td>5719.618645</td>\n",
       "      <td>542.900587</td>\n",
       "    </tr>\n",
       "    <tr>\n",
       "      <th>min</th>\n",
       "      <td>800.000000</td>\n",
       "      <td>1.000000</td>\n",
       "      <td>0.000000</td>\n",
       "      <td>0.000000</td>\n",
       "    </tr>\n",
       "    <tr>\n",
       "      <th>25%</th>\n",
       "      <td>800.000000</td>\n",
       "      <td>3.000000</td>\n",
       "      <td>2000.000000</td>\n",
       "      <td>0.000000</td>\n",
       "    </tr>\n",
       "    <tr>\n",
       "      <th>50%</th>\n",
       "      <td>1200.000000</td>\n",
       "      <td>6.000000</td>\n",
       "      <td>5600.000000</td>\n",
       "      <td>0.000000</td>\n",
       "    </tr>\n",
       "    <tr>\n",
       "      <th>75%</th>\n",
       "      <td>2000.000000</td>\n",
       "      <td>9.000000</td>\n",
       "      <td>9600.000000</td>\n",
       "      <td>0.000000</td>\n",
       "    </tr>\n",
       "    <tr>\n",
       "      <th>max</th>\n",
       "      <td>2000.000000</td>\n",
       "      <td>12.000000</td>\n",
       "      <td>24000.000000</td>\n",
       "      <td>6742.380000</td>\n",
       "    </tr>\n",
       "  </tbody>\n",
       "</table>\n",
       "</div>"
      ],
      "text/plain": [
       "       monthly_fee  actual_usage  billed_amount     discount\n",
       "count  5000.000000   5000.000000    5000.000000  5000.000000\n",
       "mean   1348.640000      5.854000    6603.011600   157.035034\n",
       "std     501.043271      3.413534    5719.618645   542.900587\n",
       "min     800.000000      1.000000       0.000000     0.000000\n",
       "25%     800.000000      3.000000    2000.000000     0.000000\n",
       "50%    1200.000000      6.000000    5600.000000     0.000000\n",
       "75%    2000.000000      9.000000    9600.000000     0.000000\n",
       "max    2000.000000     12.000000   24000.000000  6742.380000"
      ]
     },
     "execution_count": 4,
     "metadata": {},
     "output_type": "execute_result"
    }
   ],
   "source": [
    "# Summary of Dataset\n",
    "df.describe()"
   ]
  },
  {
   "cell_type": "markdown",
   "id": "4eecd1d6",
   "metadata": {},
   "source": [
    "##### Performing KPI Analysis"
   ]
  },
  {
   "cell_type": "markdown",
   "id": "a02975af",
   "metadata": {},
   "source": [
    "1. Expected Revenue"
   ]
  },
  {
   "cell_type": "code",
   "execution_count": 5,
   "id": "96e13487",
   "metadata": {},
   "outputs": [
    {
     "name": "stdout",
     "output_type": "stream",
     "text": [
      "0        2000\n",
      "1         800\n",
      "2       16000\n",
      "3        8800\n",
      "4        1600\n",
      "        ...  \n",
      "4995    18000\n",
      "4996     8000\n",
      "4997     7200\n",
      "4998     3600\n",
      "4999     2000\n",
      "Name: expected_revenue, Length: 5000, dtype: int64\n"
     ]
    }
   ],
   "source": [
    "df['expected_revenue'] = df['monthly_fee'] * df['actual_usage']\n",
    "print(df['expected_revenue'])"
   ]
  },
  {
   "cell_type": "markdown",
   "id": "72b41bdd",
   "metadata": {},
   "source": [
    "2. Revenue Leakage"
   ]
  },
  {
   "cell_type": "code",
   "execution_count": 6,
   "id": "125e9ada",
   "metadata": {},
   "outputs": [
    {
     "name": "stdout",
     "output_type": "stream",
     "text": [
      "0        805\n",
      "1          0\n",
      "2          0\n",
      "3          0\n",
      "4          0\n",
      "        ... \n",
      "4995       0\n",
      "4996    2706\n",
      "4997       0\n",
      "4998       0\n",
      "4999       0\n",
      "Name: revenue_leakage, Length: 5000, dtype: int64\n"
     ]
    }
   ],
   "source": [
    "df['revenue_leakage'] = df['expected_revenue'] - df['billed_amount']\n",
    "print(df['revenue_leakage'])"
   ]
  },
  {
   "cell_type": "markdown",
   "id": "c5ba47f4",
   "metadata": {},
   "source": [
    "3. Billing Efficiency"
   ]
  },
  {
   "cell_type": "code",
   "execution_count": 7,
   "id": "acb3d6c3",
   "metadata": {},
   "outputs": [
    {
     "name": "stdout",
     "output_type": "stream",
     "text": [
      "0       0.59750\n",
      "1       1.00000\n",
      "2       1.00000\n",
      "3       1.00000\n",
      "4       1.00000\n",
      "         ...   \n",
      "4995    1.00000\n",
      "4996    0.66175\n",
      "4997    1.00000\n",
      "4998    1.00000\n",
      "4999    1.00000\n",
      "Name: billing_efficiency, Length: 5000, dtype: float64\n"
     ]
    }
   ],
   "source": [
    "df['billing_efficiency'] = df['billed_amount'] / df['expected_revenue']\n",
    "df['billing_efficiency'] = df['billing_efficiency'].replace([float('inf'), -float('inf')], 0).fillna(0)\n",
    "print(df['billing_efficiency'])"
   ]
  },
  {
   "cell_type": "markdown",
   "id": "4d67db7d",
   "metadata": {},
   "source": [
    "4. Churn Rate"
   ]
  },
  {
   "cell_type": "code",
   "execution_count": 8,
   "id": "7b576fbc",
   "metadata": {},
   "outputs": [
    {
     "name": "stdout",
     "output_type": "stream",
     "text": [
      "0.0798\n"
     ]
    }
   ],
   "source": [
    "churn_rate = (df['status'] == 'churned').sum() / len(df)\n",
    "print(churn_rate)"
   ]
  },
  {
   "cell_type": "markdown",
   "id": "6f6e7ecc",
   "metadata": {},
   "source": [
    "5. Discount Metrics"
   ]
  },
  {
   "cell_type": "code",
   "execution_count": 17,
   "id": "44874877",
   "metadata": {},
   "outputs": [],
   "source": [
    "if 'discount' in df.columns:\n",
    "    #Count of Customers availing a Discount\n",
    "    discount_count = (df['discount'] > 0).sum()\n",
    "    \n",
    "\n",
    "    #Discount Leakage\n",
    "    df['discount_leakage'] = (df['discount'] / df['expected_revenue'])\n",
    "    df['discount_leakage'] = df['discount_leakage'].replace([float('inf'), -float('inf')], 0).fillna(0)\n",
    "\n",
    "    #Total Discount Leakage Amount\n",
    "    total_discount_amount = df['discount'].sum()\n",
    "\n",
    "else:\n",
    "    discount_count = None\n",
    "    total_discount_amount = None    "
   ]
  },
  {
   "cell_type": "markdown",
   "id": "483b895d",
   "metadata": {},
   "source": [
    "Visual 1: Revenue Overview (Expected vs Billed vs Leakage)"
   ]
  },
  {
   "cell_type": "code",
   "execution_count": 10,
   "id": "e1734910",
   "metadata": {},
   "outputs": [
    {
     "name": "stderr",
     "output_type": "stream",
     "text": [
      "C:\\Users\\aarav\\AppData\\Local\\Temp\\ipykernel_20832\\1616571059.py:7: FutureWarning: \n",
      "\n",
      "Passing `palette` without assigning `hue` is deprecated and will be removed in v0.14.0. Assign the `x` variable to `hue` and set `legend=False` for the same effect.\n",
      "\n",
      "  sns.barplot(x=list(revenue_data.keys()), y=list(revenue_data.values()), palette='viridis')\n"
     ]
    },
    {
     "data": {
      "image/png": "[encoded data removed]",
      "text/plain": [
       "<Figure size 800x600 with 1 Axes>"
      ]
     },
     "metadata": {},
     "output_type": "display_data"
    }
   ],
   "source": [
    "plt.figure(figsize=(8, 6))\n",
    "revenue_data = {\n",
    "    'Expected Revenue': df['expected_revenue'].sum(),\n",
    "    'Billed Amount': df['billed_amount'].sum(),\n",
    "    'Revenue Leakage': df['revenue_leakage'].sum()\n",
    "}\n",
    "sns.barplot(x=list(revenue_data.keys()), y=list(revenue_data.values()), palette='viridis')\n",
    "plt.title(\"Revenue Overview\", fontsize=14)\n",
    "plt.ylabel(\"Amount (INR)\")\n",
    "plt.show()"
   ]
  },
  {
   "cell_type": "markdown",
   "id": "c9f24fa5",
   "metadata": {},
   "source": [
    "Visual 2: Billing Efficiency Distribution"
   ]
  },
  {
   "cell_type": "code",
   "execution_count": 11,
   "id": "b56190e4",
   "metadata": {},
   "outputs": [
    {
     "data": {
      "image/png": "[encoded data removed]",
      "text/plain": [
       "<Figure size 800x600 with 1 Axes>"
      ]
     },
     "metadata": {},
     "output_type": "display_data"
    }
   ],
   "source": [
    "plt.figure(figsize=(8, 6))\n",
    "sns.histplot(df['billing_efficiency'], bins=30, kde=True, color='skyblue')\n",
    "plt.title(\"Billing Efficiency Distribution\", fontsize=14)\n",
    "plt.xlabel(\"Billing Efficiency Ratio\")\n",
    "plt.ylabel(\"Frequency\")\n",
    "plt.show()"
   ]
  },
  {
   "cell_type": "markdown",
   "id": "b4ac9f2e",
   "metadata": {},
   "source": [
    "Visual 3: Churn Rate Pie Chart"
   ]
  },
  {
   "cell_type": "code",
   "execution_count": 12,
   "id": "4fe62773",
   "metadata": {},
   "outputs": [
    {
     "data": {
      "image/png": "[encoded data removed]",
      "text/plain": [
       "<Figure size 600x600 with 1 Axes>"
      ]
     },
     "metadata": {},
     "output_type": "display_data"
    }
   ],
   "source": [
    "plt.figure(figsize=(6, 6))\n",
    "churn_counts = df['status'].str.lower().value_counts()\n",
    "plt.pie(churn_counts, labels=churn_counts.index, autopct='%1.1f%%', colors=['lightgreen', 'lightcoral'])\n",
    "plt.title(\"Customer Churn Distribution\")\n",
    "plt.show()\n"
   ]
  },
  {
   "cell_type": "markdown",
   "id": "50b55193",
   "metadata": {},
   "source": [
    "Visual 4: Discount Leakage Distribution"
   ]
  },
  {
   "cell_type": "code",
   "execution_count": 13,
   "id": "f28f9616",
   "metadata": {},
   "outputs": [
    {
     "data": {
      "image/png": "[encoded data removed]",
      "text/plain": [
       "<Figure size 800x600 with 1 Axes>"
      ]
     },
     "metadata": {},
     "output_type": "display_data"
    }
   ],
   "source": [
    "if 'discount_leakage' in df.columns:\n",
    "    plt.figure(figsize=(8, 6))\n",
    "    sns.histplot(df['discount_leakage'], bins=30, kde=True, color='orange')\n",
    "    plt.title(\"Discount Leakage Distribution\", fontsize=14)\n",
    "    plt.xlabel(\"Discount Leakage Ratio\")\n",
    "    plt.ylabel(\"Frequency\")\n",
    "    plt.show()"
   ]
  },
  {
   "cell_type": "markdown",
   "id": "6cad720c",
   "metadata": {},
   "source": [
    "##### Disgnostics Table"
   ]
  },
  {
   "cell_type": "code",
   "execution_count": 14,
   "id": "bea19c86",
   "metadata": {},
   "outputs": [],
   "source": [
    "kpis = {\n",
    "    'Total Expected Revenue': df['expected_revenue'].sum(),\n",
    "    'Total Billed Amount': df['billed_amount'].sum(),\n",
    "    'Total Revenue Leakage': df['revenue_leakage'].sum(),\n",
    "    'Average Billing Efficiency': df['billing_efficiency'].mean(),\n",
    "    'Churn Rate': churn_rate,\n",
    "    'Count of Discounted Customers': discount_count,\n",
    "    'Total Discount Leakage Amount': total_discount_amount\n",
    "}"
   ]
  },
  {
   "cell_type": "code",
   "execution_count": 15,
   "id": "e298185e",
   "metadata": {},
   "outputs": [],
   "source": [
    "#Creating a Diagnostic Table Data Frame\n",
    "kpi_df = pd.DataFrame(kpis, index=['KPI Value'])"
   ]
  },
  {
   "cell_type": "code",
   "execution_count": 16,
   "id": "8b5706ae",
   "metadata": {},
   "outputs": [
    {
     "name": "stdout",
     "output_type": "stream",
     "text": [
      "           Total Expected Revenue  Total Billed Amount  Total Revenue Leakage  \\\n",
      "KPI Value                39453600             33015058                6438542   \n",
      "\n",
      "           Average Billing Efficiency  Churn Rate  \\\n",
      "KPI Value                    0.834481      0.0798   \n",
      "\n",
      "           Count of Discounted Customers  Total Discount Leakage Amount  \n",
      "KPI Value                            925                      785175.17  \n"
     ]
    }
   ],
   "source": [
    "#Display the Diagnostic Table\n",
    "print(kpi_df)"
   ]
  }
 ],
 "metadata": {
  "kernelspec": {
   "display_name": "Python 3",
   "language": "python",
   "name": "python3"
  },
  "language_info": {
   "codemirror_mode": {
    "name": "ipython",
    "version": 3
   },
   "file_extension": ".py",
   "mimetype": "text/x-python",
   "name": "python",
   "nbconvert_exporter": "python",
   "pygments_lexer": "ipython3",
   "version": "3.13.4"
  }
 },
 "nbformat": 4,
 "nbformat_minor": 5
}
